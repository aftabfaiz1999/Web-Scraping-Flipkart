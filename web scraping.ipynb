{
 "cells": [
  {
   "cell_type": "code",
   "execution_count": 323,
   "id": "f63f4b6e-79f4-4b41-bfe8-b92e9f12367c",
   "metadata": {},
   "outputs": [],
   "source": [
    "import pandas as pd\n",
    "from bs4 import BeautifulSoup\n",
    "import requests"
   ]
  },
  {
   "cell_type": "code",
   "execution_count": 324,
   "id": "a984500d-06f5-4a30-b3aa-13da4c9ee2bf",
   "metadata": {},
   "outputs": [],
   "source": [
    "link = 'https://www.flipkart.com/search?q=mobile+phone&sid=tyy%2C4io&as=on&as-show=on&otracker=AS_QueryStore_OrganicAutoSuggest_1_6_na_na_na&otracker1=AS_QueryStore_OrganicAutoSuggest_1_6_na_na_na&as-pos=1&as-type=HISTORY&suggestionId=mobile+phone%7CMobiles&requestId=506c3876-eac4-444e-a339-dffff0cd34be'"
   ]
  },
  {
   "cell_type": "code",
   "execution_count": 325,
   "id": "d3fb6208-1cdc-42bd-8756-10d343f61c51",
   "metadata": {},
   "outputs": [],
   "source": [
    "r =requests.get(link)"
   ]
  },
  {
   "cell_type": "code",
   "execution_count": 326,
   "id": "0685378b-bc88-4b65-8383-a9dd7c4321cf",
   "metadata": {},
   "outputs": [],
   "source": [
    "soup = BeautifulSoup(r.text,\"lxml\")"
   ]
  },
  {
   "cell_type": "code",
   "execution_count": 327,
   "id": "d1265c97-dca3-4980-8600-26fc8c3d3689",
   "metadata": {},
   "outputs": [],
   "source": [
    "Product_name=[]\n",
    "Product_price=[]\n",
    "Product_desc=[]"
   ]
  },
  {
   "cell_type": "code",
   "execution_count": 328,
   "id": "0fd31a6f-5ba6-4ead-9558-dfdff39aecf2",
   "metadata": {},
   "outputs": [],
   "source": [
    "name = soup.find_all(\"div\",class_='_4rR01T')\n",
    "\n",
    "for i in name:\n",
    "    mo_name=i.text\n",
    "    Product_name.append(mo_name)"
   ]
  },
  {
   "cell_type": "code",
   "execution_count": 329,
   "id": "5a64a09f-8f13-4d7b-b0dd-3704f79f3ec1",
   "metadata": {},
   "outputs": [],
   "source": [
    "price = soup.find_all(\"div\",class_='_30jeq3 _1_WHN1')\n",
    "\n",
    "for i in price:\n",
    "    mo_price=i.text\n",
    "    Product_price.append(mo_price)"
   ]
  },
  {
   "cell_type": "code",
   "execution_count": 330,
   "id": "14d13c4f-c1d8-4eb3-8547-fee0f94262c6",
   "metadata": {},
   "outputs": [],
   "source": [
    "desc = soup.find_all(\"div\",class_='fMghEO')\n",
    "\n",
    "for i in desc:\n",
    "    mo_desc=i.text\n",
    "    Product_desc.append(mo_desc)"
   ]
  },
  {
   "cell_type": "code",
   "execution_count": 331,
   "id": "bcd2cbe8-71ce-40dd-9647-d437ca5c3bea",
   "metadata": {},
   "outputs": [
    {
     "name": "stdout",
     "output_type": "stream",
     "text": [
      "['REDMI Note 12 Pro 5G (Glacier Blue, 128 GB)', 'SAMSUNG Galaxy F23 5G (Forest Green, 128 GB)', 'SAMSUNG Galaxy F23 5G (Aqua Blue, 128 GB)', 'POCO M4 Pro 5G (Cool Blue, 128 GB)', 'Infinix HOT 20 Play (Luna Blue, 64 GB)', 'POCO M4 Pro 5G (Cool Blue, 64 GB)', 'POCO C31 (Shadow Gray, 64 GB)', 'SAMSUNG Galaxy F23 5G (Aqua Blue, 128 GB)', 'REDMI Note 12 Pro+ 5G (Obsidian Black, 256 GB)', 'MOTOROLA G32 (Mineral Gray, 64 GB)', 'MOTOROLA e40 (Carbon Gray, 64 GB)', 'REDMI Note 12 Pro+ 5G (Iceberg Blue, 256 GB)', 'MOTOROLA e40 (Pink Clay, 64 GB)', 'SAMSUNG Galaxy F23 5G (Forest Green, 128 GB)', 'REDMI 9i Sport (Coral Green, 64 GB)', 'MOTOROLA G62 5G (Midnight Gray, 128 GB)', 'REDMI Note 12 Pro 5G (Onyx Black, 256 GB)', 'REDMI Note 12 Pro+ 5G (Arctic White, 256 GB)', 'MOTOROLA G32 (Satin Silver, 64 GB)', 'APPLE iPhone 14 (Midnight, 128 GB)', 'REDMI 9i Sport (Carbon Black, 64 GB)', 'POCO M4 5G (Power Black, 64 GB)', 'realme 9 5G (Supersonic Blue, 64 GB)', 'MOTOROLA g52 (Charcoal Grey, 128 GB)']\n",
      "['₹24,999', '₹14,999', '₹14,999', '₹13,999', '₹8,199', '₹11,999', '₹7,499', '₹13,999', '₹32,999', '₹9,999', '₹7,999', '₹32,999', '₹7,999', '₹16,999', '₹7,199', '₹14,999', '₹27,999', '₹32,999', '₹9,999', '₹73,990', '₹7,199', '₹11,999', '₹14,999', '₹12,999']\n",
      "['6 GB RAM | 128 GB ROM16.94 cm (6.67 inch) Full HD Display50MP (OIS) + 8MP + 2MP | 16MP Front Camera5000 mAh Lithium Polymer BatteryMediatek Dimensity 1080 Processor1 Year Manufacturer Warranty for Phone and 6 Months Warranty for In the Box Accessories', '6 GB RAM | 128 GB ROM | Expandable Upto 1 TB16.76 cm (6.6 inch) Full HD+ Display50MP + 8MP + 2MP | 8MP Front Camera5000 mAh Lithium Ion BatteryQualcomm Snapdragon 750G Processor1 Year Warranty Provided by the Manufacturer from Date of Purchase', '6 GB RAM | 128 GB ROM | Expandable Upto 1 TB16.76 cm (6.6 inch) Full HD+ Display50MP + 8MP + 2MP | 8MP Front Camera5000 mAh Lithium Ion BatteryQualcomm Snapdragon 750G Processor1 Year Warranty Provided by the Manufacturer from Date of Purchase', '6 GB RAM | 128 GB ROM | Expandable Upto 1 TB16.76 cm (6.6 inch) Full HD+ Display50MP + 8MP | 16MP Front Camera5000 mAh Lithium-ion Polymer BatteryMediatek Dimensity 810 ProcessorOne Year for Handset, 6 Months for Accessories', '4 GB RAM | 64 GB ROM | Expandable Upto 256 GB17.32 cm (6.82 inch) HD+ Display13Mp + AI Lens | 8MP Front Camera6000 mAh Li-ion Polymer BatteryMediaTek G37 Processor1 Year on Handset and 6 Months on Accessories', '4 GB RAM | 64 GB ROM | Expandable Upto 1 TB16.76 cm (6.6 inch) Full HD+ Display50MP + 8MP | 16MP Front Camera5000 mAh Lithium-ion Polymer BatteryMediatek Dimensity 810 ProcessorOne Year for Handset, 6 Months for Accessories', '4 GB RAM | 64 GB ROM | Expandable Upto 512 GB16.59 cm (6.53 inch) HD+ Display13MP + 2MP + 2MP | 5MP Front Camera5000 mAh Lithium-ion Polymer BatteryMediaTek Helio G35 Processor1 Year Warranty for Handset, 6 Months for Accessories', '4 GB RAM | 128 GB ROM | Expandable Upto 1 TB16.76 cm (6.6 inch) Full HD+ Display50MP + 8MP + 2MP | 8MP Front Camera5000 mAh Lithium Ion BatteryQualcomm Snapdragon 750G Processor1 Year Warranty Provided by the Manufacturer from Date of Purchase', '12 GB RAM | 256 GB ROM16.94 cm (6.67 inch) Full HD+ Display200MP + 8MP + 2MP | 16MP Front Camera4980 mAh Lithium Polymer BatteryMediatek Dimensity 1080 Processor1 Year Manufacturer Warranty for Phone and 6 Months Warranty for In the Box Accessories', '4 GB RAM | 64 GB ROM16.64 cm (6.55 inch) Full HD+ Display50MP + 8MP + 2MP | 16MP Front Camera5000 mAh Lithium Polymer BatteryQualcomm Snapdragon 680 Processor1 Year on Handset and 6 Months on Accessories', '4 GB RAM | 64 GB ROM | Expandable Upto 1 TB16.51 cm (6.5 inch) HD+ Display48MP + 2MP + 2MP | 8MP Front Camera5000 mAh BatteryUNISOC T700 Processor1 Year on Handset and 6 Months on Accessories', '12 GB RAM | 256 GB ROM16.94 cm (6.67 inch) Full HD+ Display200MP + 8MP + 2MP | 16MP Front Camera4980 mAh Lithium Polymer BatteryMediatek Dimensity 1080 Processor1 Year Manufacturer Warranty for Phone and 6 Months Warranty for In the Box Accessories', '4 GB RAM | 64 GB ROM | Expandable Upto 1 TB16.51 cm (6.5 inch) HD+ Display48MP + 2MP + 2MP | 8MP Front Camera5000 mAh BatteryUNISOC T700 Processor1 Year on Handset and 6 Months on Accessories', '6 GB RAM | 128 GB ROM16.76 cm (6.6 inch) Display50MP Rear Camera5000 mAh Battery1 Year Warranty', '4 GB RAM | 64 GB ROM | Expandable Upto 512 GB16.59 cm (6.53 inch) HD+ Display13MP Rear Camera | 5MP Front Camera5000 mAh Li-Polymer BatteryMediaTek Helio G25 ProcessorBrand Warranty of 1 Year Available for Mobile and 6 Months for Accessories', '6 GB RAM | 128 GB ROM16.64 cm (6.55 inch) Full HD+ Display50MP + 8MP + 2MP | 16MP Front Camera5000 mAh Lithium Polymer BatteryQualcomm Snapdragon 695 5G Processor1 Year on Handset and 6 Months on Accessories', '8 GB RAM | 256 GB ROM16.94 cm (6.67 inch) Full HD Display50MP (OIS) + 8MP + 2MP | 16MP Front Camera5000 mAh Lithium Polymer BatteryMediatek Dimensity 1080 Processor1 Year Manufacturer Warranty for Phone and 6 Months Warranty for In the Box Accessories', '12 GB RAM | 256 GB ROM16.94 cm (6.67 inch) Full HD+ Display200MP + 8MP + 2MP | 16MP Front Camera4980 mAh Lithium Polymer BatteryMediatek Dimensity 1080 Processor1 Year Manufacturer Warranty for Phone and 6 Months Warranty for In the Box Accessories', '4 GB RAM | 64 GB ROM16.64 cm (6.55 inch) Full HD+ Display50MP + 8MP + 2MP | 16MP Front Camera5000 mAh Lithium Polymer BatteryQualcomm Snapdragon 680 Processor1 Year on Handset and 6 Months on Accessories', '128 GB ROM15.49 cm (6.1 inch) Super Retina XDR Display12MP + 12MP | 12MP Front CameraA15 Bionic Chip, 6 Core Processor Processor1 Year Warranty for Phone and 6 Months Warranty for In-Box Accessories', '4 GB RAM | 64 GB ROM | Expandable Upto 512 GB16.59 cm (6.53 inch) HD+ Display13MP Rear Camera | 5MP Front Camera5000 mAh Li-Polymer BatteryMediaTek Helio G25 ProcessorBrand Warranty of 1 Year Available for Mobile and 6 Months for Accessories', '4 GB RAM | 64 GB ROM | Expandable Upto 512 GB16.71 cm (6.58 inch) Full HD+ Display50MP + 2MP | 8MP Front Camera5000 mAh Lithium Ion Polymer BatteryMediatek Dimensity 700 Processor1 Year Warranty for Handset and 6 Months for Accessories', '4 GB RAM | 64 GB ROM | Expandable Upto 1 TB16.51 cm (6.5 inch) Full HD+ Display48MP + 2MP + 2MP | 16MP Front Camera5000 mAh Lithium Polymer BatteryMediatek Dimensity 810 Processor1 Year Warranty for Phone and 6 Months Warranty for In-Box Accessories', '6 GB RAM | 128 GB ROM16.76 cm (6.6 inch) Full HD+ Display50MP + 8MP + 2MP | 16MP Front Camera5000 mAh Lithium BatteryQualcomm Snapdragon 680 Processor1 Year on Handset and 6 Months on Accessories']\n"
     ]
    }
   ],
   "source": [
    "print(Product_name)\n",
    "print(Product_price)\n",
    "print(Product_desc)"
   ]
  },
  {
   "cell_type": "code",
   "execution_count": 332,
   "id": "b1a0639a-c717-43a2-a500-5e147562ebf6",
   "metadata": {},
   "outputs": [],
   "source": [
    "df = pd.DataFrame({\"Product\":Product_name,\"Price\":Product_price,\"Desc\":Product_desc})"
   ]
  },
  {
   "cell_type": "code",
   "execution_count": 334,
   "id": "553eb01f-d6b4-4a93-8d18-5f074eb671b7",
   "metadata": {},
   "outputs": [],
   "source": [
    "df.to_excel(\"flipkart_data_scrape.xlsx\")"
   ]
  },
  {
   "cell_type": "code",
   "execution_count": null,
   "id": "e95e3473-5943-46e5-b284-97aa5d948774",
   "metadata": {},
   "outputs": [],
   "source": []
  },
  {
   "cell_type": "code",
   "execution_count": null,
   "id": "ae011d95-9892-47fc-8b8e-44f64e00a5c4",
   "metadata": {},
   "outputs": [],
   "source": []
  },
  {
   "cell_type": "code",
   "execution_count": null,
   "id": "3f8a3cb3-08e9-4f62-86e1-f353327ca2f5",
   "metadata": {},
   "outputs": [],
   "source": []
  }
 ],
 "metadata": {
  "kernelspec": {
   "display_name": "Python 3 (ipykernel)",
   "language": "python",
   "name": "python3"
  },
  "language_info": {
   "codemirror_mode": {
    "name": "ipython",
    "version": 3
   },
   "file_extension": ".py",
   "mimetype": "text/x-python",
   "name": "python",
   "nbconvert_exporter": "python",
   "pygments_lexer": "ipython3",
   "version": "3.9.13"
  },
  "widgets": {
   "application/vnd.jupyter.widget-state+json": {
    "state": {},
    "version_major": 2,
    "version_minor": 0
   }
  }
 },
 "nbformat": 4,
 "nbformat_minor": 5
}
